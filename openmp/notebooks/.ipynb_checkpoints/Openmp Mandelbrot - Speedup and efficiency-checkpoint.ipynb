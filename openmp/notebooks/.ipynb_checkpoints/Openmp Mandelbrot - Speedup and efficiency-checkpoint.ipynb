{
 "cells": [
  {
   "cell_type": "markdown",
   "metadata": {},
   "source": [
    "# Openmp Mandelbrot - Speedup and efficiency"
   ]
  },
  {
   "cell_type": "markdown",
   "metadata": {},
   "source": [
    "## Imports"
   ]
  },
  {
   "cell_type": "code",
   "execution_count": 213,
   "metadata": {},
   "outputs": [],
   "source": [
    "from operator import truediv\n",
    "from matplotlib.pylab import plt\n",
    "import csv"
   ]
  },
  {
   "cell_type": "markdown",
   "metadata": {},
   "source": [
    "## Obtain speedup graphic"
   ]
  },
  {
   "cell_type": "code",
   "execution_count": 216,
   "metadata": {},
   "outputs": [
    {
     "ename": "IndentationError",
     "evalue": "expected an indented block (<ipython-input-216-76be1abf99e9>, line 3)",
     "output_type": "error",
     "traceback": [
      "\u001b[0;36m  File \u001b[0;32m\"<ipython-input-216-76be1abf99e9>\"\u001b[0;36m, line \u001b[0;32m3\u001b[0m\n\u001b[0;31m    data = [[float(n) for n in line.strip().split('\\t')] for line in open(filename, 'r').readlines()]\u001b[0m\n\u001b[0m       ^\u001b[0m\n\u001b[0;31mIndentationError\u001b[0m\u001b[0;31m:\u001b[0m expected an indented block\n"
     ]
    }
   ],
   "source": [
    "def plot_speedup():    \n",
    "    def get_speedup(filename):\n",
    "        data = [[float(n) for n in line.strip().split('\\t')] for line in open(filename, 'r').readlines()]\n",
    "        serial = data[0]\n",
    "        data = data[1:]\n",
    "    return list(zip(*[list(map(truediv, serial, row)) for row in data]))\n",
    "\n",
    "    %matplotlib inline\n",
    "    speedup = get_speedup()\n",
    "    plt.plot(speedup[0], label=\"0\")\n",
    "    plt.plot(speedup[1], label=\"1\")\n",
    "    plt.plot(speedup[2], label=\"3\")\n",
    "    plt.legend(['1', '2', '3'], loc='upper left')\n",
    "    plt.show()"
   ]
  },
  {
   "cell_type": "code",
   "execution_count": 215,
   "metadata": {},
   "outputs": [],
   "source": [
    "speedup = get_speedup(\"../files/dynamic.txt\")"
   ]
  },
  {
   "cell_type": "code",
   "execution_count": 212,
   "metadata": {},
   "outputs": [
    {
     "data": {
      "text/plain": [
       "[(1.0088861280360204,\n",
       "  1.960255603634605,\n",
       "  3.7987807406793013,\n",
       "  3.7939661028181386,\n",
       "  3.794186113941563),\n",
       " (1.002570239977389,\n",
       "  1.9490978275054434,\n",
       "  3.780982169326445,\n",
       "  3.781057736828255,\n",
       "  3.78090660484513),\n",
       " (1.0019218874259963,\n",
       "  1.9476866524095402,\n",
       "  3.7780721044915366,\n",
       "  3.7781665208880004,\n",
       "  3.7775686300639664),\n",
       " (1.006010914415014,\n",
       "  1.955789095977753,\n",
       "  3.793964989308052,\n",
       "  3.794041169009795,\n",
       "  3.7938888126654375),\n",
       " (0.9996992883156804,\n",
       "  1.8868241822921046,\n",
       "  3.763995471128444,\n",
       "  3.7710482976506574,\n",
       "  3.769148078473529),\n",
       " (1.001284040447274,\n",
       "  1.9469069510594512,\n",
       "  3.7777680587002385,\n",
       "  3.7762943283280928,\n",
       "  3.777717221263411),\n",
       " (0.9999019533565378,\n",
       "  1.89103582551235,\n",
       "  3.7743254155171253,\n",
       "  3.7735953780558575,\n",
       "  3.773722320805336),\n",
       " (1.0059484349524304,\n",
       "  1.955961685516756,\n",
       "  3.795337706979244,\n",
       "  3.7938630573894008,\n",
       "  3.7952863955763907),\n",
       " (0.9858675106598092,\n",
       "  1.8909405168416171,\n",
       "  3.7735452228120505,\n",
       "  3.7733547567572114,\n",
       "  3.7725613551111037),\n",
       " (0.9975789080163067,\n",
       "  1.9353702319011263,\n",
       "  3.7483193867517506,\n",
       "  3.7496988838628513,\n",
       "  3.750401563420249),\n",
       " (0.9836985222262574,\n",
       "  1.9473285717014586,\n",
       "  3.7761183977909853,\n",
       "  3.775736965268776,\n",
       "  3.7760230324356634),\n",
       " (0.9995398030249925,\n",
       "  1.9443773616330269,\n",
       "  3.76576034729549,\n",
       "  3.767152710551791,\n",
       "  3.767861945617385)]"
      ]
     },
     "execution_count": 212,
     "metadata": {},
     "output_type": "execute_result"
    }
   ],
   "source": [
    "speedup[1:]"
   ]
  },
  {
   "cell_type": "code",
   "execution_count": 211,
   "metadata": {},
   "outputs": [
    {
     "data": {
      "text/plain": [
       "13"
      ]
     },
     "execution_count": 211,
     "metadata": {},
     "output_type": "execute_result"
    }
   ],
   "source": [
    "len(speedup)"
   ]
  },
  {
   "cell_type": "code",
   "execution_count": null,
   "metadata": {},
   "outputs": [],
   "source": []
  }
 ],
 "metadata": {
  "kernelspec": {
   "display_name": "Python 3",
   "language": "python",
   "name": "python3"
  },
  "language_info": {
   "codemirror_mode": {
    "name": "ipython",
    "version": 3
   },
   "file_extension": ".py",
   "mimetype": "text/x-python",
   "name": "python",
   "nbconvert_exporter": "python",
   "pygments_lexer": "ipython3",
   "version": "3.6.9"
  }
 },
 "nbformat": 4,
 "nbformat_minor": 4
}
